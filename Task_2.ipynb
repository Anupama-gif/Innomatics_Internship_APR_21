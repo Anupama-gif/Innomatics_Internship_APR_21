{
 "cells": [
  {
   "cell_type": "code",
   "execution_count": null,
   "id": "2ddfba73",
   "metadata": {},
   "outputs": [],
   "source": [
    "#Question 1 List Comprehensions\n",
    "if __name__ == '__main__':\n",
    " x = int(input())\n",
    " y = int(input())\n",
    " z = int(input())\n",
    " n = int(input())\n",
    " Answer = [[i, j, k] for i in range(x + 1) for j in range(y + 1) for k in range(z + 1) if (i + j + k) != n]\n",
    "print (Answer)"
   ]
  },
  {
   "cell_type": "code",
   "execution_count": null,
   "id": "46b4575b",
   "metadata": {},
   "outputs": [],
   "source": [
    "#Question 2 Find the Runner-Up Score!\n",
    "\n",
    "if __name__ == '__main__':\n",
    "    n = int(input())\n",
    "    arr = list(map(int, input().split()))\n",
    "    arr.sort()\n",
    "    print(arr[arr.index(max(arr))-1])\n"
   ]
  },
  {
   "cell_type": "code",
   "execution_count": null,
   "id": "537fde67",
   "metadata": {},
   "outputs": [],
   "source": [
    "#Question 3 Nested Lists\n",
    "if __name__ == '__main__':\n",
    "    students = []\n",
    "    scores = []\n",
    "    for N in range(int(input())):\n",
    "        name = input()\n",
    "        score = float(input())\n",
    "        scores.append(score)\n",
    "        students.append([name, score])\n",
    "    \n",
    "        \n",
    "    count = scores.count(min(scores))\n",
    "    for i in range(count):\n",
    "        scores.remove(min(scores))\n",
    "        \n",
    "    secondHigh = min(scores)\n",
    "    \n",
    "    students.sort()\n",
    "    output = [x for x in students if x[1] == secondHigh]\n",
    "    for i in output:\n",
    "        print(i[0])\n"
   ]
  },
  {
   "cell_type": "code",
   "execution_count": null,
   "id": "a1517443",
   "metadata": {},
   "outputs": [],
   "source": [
    "#Question 4 Finding the percentage\n",
    "n = int(input())\n",
    "Marks = {}\n",
    "for i in range(n):\n",
    "     name, *line = input(). split()\n",
    "     scores = list(map(float,line)) \n",
    "     Marks[name] = scores\n",
    "student_name = input()\n",
    "a = Marks[student_name]\n",
    "b = sum(a)/3\n",
    "print(\"{:.2f}\".format(b))"
   ]
  },
  {
   "cell_type": "code",
   "execution_count": null,
   "id": "39f03e3b",
   "metadata": {},
   "outputs": [],
   "source": []
  },
  {
   "cell_type": "code",
   "execution_count": null,
   "id": "f431ef2f",
   "metadata": {},
   "outputs": [],
   "source": [
    "#Question 5 Lists\n",
    "N = int(input())\n",
    "l=[]\n",
    "for i in range(N):\n",
    "    s=input().split(\"\\n\")\n",
    "    for j in s:\n",
    "            m=j.split()\n",
    "            if m[0]==\"insert\":\n",
    "                l.insert(int(m[1]),int(m[2]))\n",
    "            elif m[0]==\"print\":\n",
    "                print(l)\n",
    "            elif m[0]==\"remove\":\n",
    "                l.remove(int(m[1]))\n",
    "            elif m[0]==\"append\":\n",
    "                l.append(int(m[1]))\n",
    "            elif m[0]==\"sort\":\n",
    "                l.sort()\n",
    "            elif m[0]==\"pop\":\n",
    "                l.pop()\n",
    "            elif m[0]==\"reverse\":\n",
    "                l.reverse()   \n"
   ]
  },
  {
   "cell_type": "code",
   "execution_count": null,
   "id": "46ba769f",
   "metadata": {},
   "outputs": [],
   "source": [
    "#Question 6 Tuples\n",
    "if __name__ == '__main__':\n",
    "\n",
    "    n = int(input())\n",
    "integer_list = tuple(map(int, input().split()))\n",
    "print(hash(integer_list))\n"
   ]
  },
  {
   "cell_type": "code",
   "execution_count": null,
   "id": "7a47608e",
   "metadata": {},
   "outputs": [],
   "source": [
    "#Question 7 Introduction to sets\n",
    "def average(array):\n",
    "    average=sum(set(arr))/len(set(arr))\n",
    "    return average"
   ]
  },
  {
   "cell_type": "code",
   "execution_count": null,
   "id": "190a3537",
   "metadata": {},
   "outputs": [],
   "source": [
    "#Question 8  No Idea\n",
    "i = input().split()\n",
    "m = int(i[0])\n",
    "n = int(i[1])\n",
    "\n",
    "storage = list()\n",
    "count = 0\n",
    "\n",
    "storage = list(map(int, input().strip().split()))\n",
    "\n",
    "A = set(map(int, input().strip().split()))\n",
    "B = set(map(int, input().strip().split()))\n",
    "\n",
    "for i in storage:\n",
    "    if i in A:\n",
    "        count = count+1\n",
    "    if i in B:\n",
    "        count = count-1\n",
    "\n",
    "print(count)\n"
   ]
  },
  {
   "cell_type": "code",
   "execution_count": null,
   "id": "230d3301",
   "metadata": {},
   "outputs": [],
   "source": [
    "#Question 9 Symmetric Difference\n",
    "M = int(input())\n",
    "set1 = set(map(int, input().split()))\n",
    "N = int(input())\n",
    "set2 = set(map(int, input().split()))\n",
    "\n",
    "mdef = set1.difference(set2)\n",
    "ndef = set2.difference(set1)\n",
    "\n",
    "output = mdef.union(ndef)\n",
    "\n",
    "for i in sorted(list(output)):\n",
    "    print(i)\n"
   ]
  },
  {
   "cell_type": "code",
   "execution_count": null,
   "id": "c1a26bb3",
   "metadata": {},
   "outputs": [],
   "source": [
    "#Question 10 set.add\n",
    "N = set()\n",
    "for i in range(int(input())):\n",
    "    N.add(input())\n",
    "print(len(N))"
   ]
  },
  {
   "cell_type": "code",
   "execution_count": null,
   "id": "2a9d8b66",
   "metadata": {},
   "outputs": [],
   "source": [
    "#Question 11 Set .discard(), .remove() & .pop()\n",
    "n = int(input())\n",
    "s = set(map(int, input().split()))\n",
    "for _ in range(int(input())):\n",
    "    a = list(input().strip().split())\n",
    "    if a[0] == 'pop':\n",
    "        s.pop()\n",
    "    elif a[0] == 'discard':\n",
    "        s.discard(int(a[1]))\n",
    "    else:\n",
    "        s.remove(int(a[1]))\n",
    "\n",
    "print (sum(s))\n"
   ]
  },
  {
   "cell_type": "code",
   "execution_count": null,
   "id": "98b8afaf",
   "metadata": {},
   "outputs": [],
   "source": [
    "#Question 12 \n",
    "Set .union() Operation\n",
    "n = int(input())\n",
    "set1 = set(input().split())\n",
    "\n",
    "S = int(input())\n",
    "set2 = set(input().split())\n",
    "\n",
    "print (len(set1 | set2))"
   ]
  },
  {
   "cell_type": "code",
   "execution_count": null,
   "id": "c927bac2",
   "metadata": {},
   "outputs": [],
   "source": [
    "#Question 13 \n",
    "Set .intersection() Operation\n",
    "n = int(input())\n",
    "set1 = set(input().split())\n",
    "\n",
    "m = int(input())\n",
    "set2 = set(input().split())\n",
    "\n",
    "print (len(set1 & set2))\n"
   ]
  },
  {
   "cell_type": "code",
   "execution_count": null,
   "id": "12cd1fc6",
   "metadata": {},
   "outputs": [],
   "source": [
    "#Question 14 Set .symmetric_difference() Operation\n",
    "n = int(input())\n",
    "set1 = set(input().split())\n",
    "\n",
    "m = int(input())\n",
    "set2 = set(input().split())\n",
    "\n",
    "print (len(set1 ^ set2))\n",
    "\n"
   ]
  },
  {
   "cell_type": "code",
   "execution_count": null,
   "id": "4b77666c",
   "metadata": {},
   "outputs": [],
   "source": [
    "#Question 15 Set Mutations\n",
    "a = int(input())\n",
    "A = set(map(int, input().split()))\n",
    "for i in range(int(input())):\n",
    "    s, b = input().split()\n",
    "    if s == 'intersection_update':\n",
    "        A &= set(map(int, input().split()))\n",
    "    elif s == 'update':\n",
    "        A |= set(map(int, input().split()))\n",
    "    elif s == 'symmetric_difference_update':\n",
    "        A ^= set(map(int, input().split()))\n",
    "    else:\n",
    "        A -= set(map(int, input().split()))\n",
    "print (sum(A))  \n"
   ]
  },
  {
   "cell_type": "code",
   "execution_count": null,
   "id": "3261bf01",
   "metadata": {},
   "outputs": [],
   "source": [
    "#Question 16 Set .difference() Operation\n",
    "n = int(input())\n",
    "set1 = set(input().split())\n",
    "\n",
    "m = int(input())\n",
    "set2 = set(input().split())\n",
    "\n",
    "print (len(set1.difference(set2)))"
   ]
  },
  {
   "cell_type": "code",
   "execution_count": null,
   "id": "be26a02f",
   "metadata": {},
   "outputs": [],
   "source": [
    "#Question 17 The Captain's Room\n",
    "K = int(input())\n",
    "storage = map(int, input().split())\n",
    "storage = sorted(storage)\n",
    "for i in range(len(storage)):\n",
    "    if(i != len(storage)-1):\n",
    "        if(storage[i]!=storage[i-1] and storage[i]!=storage[i+1]):\n",
    "            print(storage[i])\n",
    "            break;\n",
    "    else:\n",
    "        print(storage[i])"
   ]
  },
  {
   "cell_type": "code",
   "execution_count": null,
   "id": "107967a6",
   "metadata": {},
   "outputs": [],
   "source": [
    "#Question 18 Check Subset\n",
    "for i in range(int(input())): \n",
    "    a = int(input()); A = set(input().split());b = int(input()); B = set(input().split())\n",
    "    if A.issubset(B) : \n",
    "        print ('True')\n",
    "    else :\n",
    "         print ('False')\n"
   ]
  },
  {
   "cell_type": "code",
   "execution_count": null,
   "id": "bd4dfaf7",
   "metadata": {},
   "outputs": [],
   "source": [
    "#Question 19 Check Strict superset\n",
    "A = set(input().split())\n",
    "n = int(input())\n",
    "output = True\n",
    "\n",
    "for i in range(n):\n",
    "    storage2 = set(input().split())\n",
    "    if not storage2.issubset(A):\n",
    "        output = False\n",
    "    if len(storage2) >= len(A):\n",
    "        output = False\n",
    "\n",
    "print(output)"
   ]
  }
 ],
 "metadata": {
  "kernelspec": {
   "display_name": "Python 3",
   "language": "python",
   "name": "python3"
  },
  "language_info": {
   "codemirror_mode": {
    "name": "ipython",
    "version": 3
   },
   "file_extension": ".py",
   "mimetype": "text/x-python",
   "name": "python",
   "nbconvert_exporter": "python",
   "pygments_lexer": "ipython3",
   "version": "3.9.4"
  }
 },
 "nbformat": 4,
 "nbformat_minor": 5
}
